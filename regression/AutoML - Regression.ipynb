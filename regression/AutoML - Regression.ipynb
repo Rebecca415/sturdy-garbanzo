{
 "cells": [
  {
   "cell_type": "code",
   "execution_count": 22,
   "metadata": {},
   "outputs": [],
   "source": [
    "#import packages\n",
    "import numpy as np\n",
    "import pandas as pd\n",
    "import matplotlib.pyplot as plt\n",
    "import seaborn as sns\n",
    "%matplotlib inline\n",
    "\n",
    "from scipy import stats\n",
    "from scipy.stats import zscore, norm\n",
    "from sklearn.model_selection import train_test_split, GridSearchCV, KFold, StratifiedKFold\n",
    "from sklearn.preprocessing import StandardScaler, MinMaxScaler\n",
    "\n",
    "from sklearn.linear_model import LinearRegression\n",
    "from sklearn.linear_model import Lasso, Ridge\n",
    "from sklearn.ensemble import GradientBoostingRegressor\n",
    "from sklearn.ensemble import RandomForestRegressor\n",
    "from sklearn import metrics\n",
    "\n",
    "from warnings import filterwarnings\n",
    "filterwarnings('ignore')"
   ]
  },
  {
   "cell_type": "code",
   "execution_count": 3,
   "metadata": {},
   "outputs": [],
   "source": [
    "bmw = pd.read_csv('regression/bmw.csv')"
   ]
  },
  {
   "cell_type": "code",
   "execution_count": 4,
   "metadata": {},
   "outputs": [
    {
     "data": {
      "text/html": [
       "<div>\n",
       "<style scoped>\n",
       "    .dataframe tbody tr th:only-of-type {\n",
       "        vertical-align: middle;\n",
       "    }\n",
       "\n",
       "    .dataframe tbody tr th {\n",
       "        vertical-align: top;\n",
       "    }\n",
       "\n",
       "    .dataframe thead th {\n",
       "        text-align: right;\n",
       "    }\n",
       "</style>\n",
       "<table border=\"1\" class=\"dataframe\">\n",
       "  <thead>\n",
       "    <tr style=\"text-align: right;\">\n",
       "      <th></th>\n",
       "      <th>model</th>\n",
       "      <th>year</th>\n",
       "      <th>price</th>\n",
       "      <th>transmission</th>\n",
       "      <th>mileage</th>\n",
       "      <th>fuelType</th>\n",
       "      <th>tax</th>\n",
       "      <th>mpg</th>\n",
       "      <th>engineSize</th>\n",
       "    </tr>\n",
       "  </thead>\n",
       "  <tbody>\n",
       "    <tr>\n",
       "      <th>0</th>\n",
       "      <td>5 Series</td>\n",
       "      <td>2014</td>\n",
       "      <td>11200</td>\n",
       "      <td>Automatic</td>\n",
       "      <td>67068</td>\n",
       "      <td>Diesel</td>\n",
       "      <td>125</td>\n",
       "      <td>57.6</td>\n",
       "      <td>2.0</td>\n",
       "    </tr>\n",
       "    <tr>\n",
       "      <th>1</th>\n",
       "      <td>6 Series</td>\n",
       "      <td>2018</td>\n",
       "      <td>27000</td>\n",
       "      <td>Automatic</td>\n",
       "      <td>14827</td>\n",
       "      <td>Petrol</td>\n",
       "      <td>145</td>\n",
       "      <td>42.8</td>\n",
       "      <td>2.0</td>\n",
       "    </tr>\n",
       "    <tr>\n",
       "      <th>2</th>\n",
       "      <td>5 Series</td>\n",
       "      <td>2016</td>\n",
       "      <td>16000</td>\n",
       "      <td>Automatic</td>\n",
       "      <td>62794</td>\n",
       "      <td>Diesel</td>\n",
       "      <td>160</td>\n",
       "      <td>51.4</td>\n",
       "      <td>3.0</td>\n",
       "    </tr>\n",
       "    <tr>\n",
       "      <th>3</th>\n",
       "      <td>1 Series</td>\n",
       "      <td>2017</td>\n",
       "      <td>12750</td>\n",
       "      <td>Automatic</td>\n",
       "      <td>26676</td>\n",
       "      <td>Diesel</td>\n",
       "      <td>145</td>\n",
       "      <td>72.4</td>\n",
       "      <td>1.5</td>\n",
       "    </tr>\n",
       "    <tr>\n",
       "      <th>4</th>\n",
       "      <td>7 Series</td>\n",
       "      <td>2014</td>\n",
       "      <td>14500</td>\n",
       "      <td>Automatic</td>\n",
       "      <td>39554</td>\n",
       "      <td>Diesel</td>\n",
       "      <td>160</td>\n",
       "      <td>50.4</td>\n",
       "      <td>3.0</td>\n",
       "    </tr>\n",
       "  </tbody>\n",
       "</table>\n",
       "</div>"
      ],
      "text/plain": [
       "       model  year  price transmission  mileage fuelType  tax   mpg  \\\n",
       "0   5 Series  2014  11200    Automatic    67068   Diesel  125  57.6   \n",
       "1   6 Series  2018  27000    Automatic    14827   Petrol  145  42.8   \n",
       "2   5 Series  2016  16000    Automatic    62794   Diesel  160  51.4   \n",
       "3   1 Series  2017  12750    Automatic    26676   Diesel  145  72.4   \n",
       "4   7 Series  2014  14500    Automatic    39554   Diesel  160  50.4   \n",
       "\n",
       "   engineSize  \n",
       "0         2.0  \n",
       "1         2.0  \n",
       "2         3.0  \n",
       "3         1.5  \n",
       "4         3.0  "
      ]
     },
     "execution_count": 4,
     "metadata": {},
     "output_type": "execute_result"
    }
   ],
   "source": [
    "bmw.head()"
   ]
  },
  {
   "cell_type": "code",
   "execution_count": 9,
   "metadata": {},
   "outputs": [],
   "source": [
    "bmw['split'] = np.random.randn(bmw.shape[0], 1)\n",
    "\n",
    "msk = np.random.rand(len(bmw)) <= 0.7\n",
    "\n",
    "train_bmw = bmw[msk]\n",
    "test_bmw = bmw[~msk]"
   ]
  },
  {
   "cell_type": "code",
   "execution_count": 10,
   "metadata": {},
   "outputs": [],
   "source": [
    "train_bmw.to_csv('train_bmw.csv')"
   ]
  },
  {
   "cell_type": "code",
   "execution_count": 11,
   "metadata": {},
   "outputs": [],
   "source": [
    "test_bmw.to_csv('test_bmw.csv')"
   ]
  },
  {
   "cell_type": "markdown",
   "metadata": {},
   "source": [
    "### AutoML"
   ]
  },
  {
   "cell_type": "code",
   "execution_count": 1,
   "metadata": {},
   "outputs": [
    {
     "name": "stdout",
     "output_type": "stream",
     "text": [
      "Checking whether there is an H2O instance running at http://localhost:54321 ..... not found.\n",
      "Attempting to start a local H2O server...\n",
      "  Java Version: java version \"15.0.2\" 2021-01-19; Java(TM) SE Runtime Environment (build 15.0.2+7-27); Java HotSpot(TM) 64-Bit Server VM (build 15.0.2+7-27, mixed mode, sharing)\n",
      "  Starting server from /Users/siyushen/opt/anaconda3/lib/python3.8/site-packages/h2o/backend/bin/h2o.jar\n",
      "  Ice root: /var/folders/sf/r8yh9s3s27j3b7l1wk0_fb2m0000gn/T/tmp1pfywxdr\n",
      "  JVM stdout: /var/folders/sf/r8yh9s3s27j3b7l1wk0_fb2m0000gn/T/tmp1pfywxdr/h2o_siyushen_started_from_python.out\n",
      "  JVM stderr: /var/folders/sf/r8yh9s3s27j3b7l1wk0_fb2m0000gn/T/tmp1pfywxdr/h2o_siyushen_started_from_python.err\n",
      "  Server is running at http://127.0.0.1:54325\n",
      "Connecting to H2O server at http://127.0.0.1:54325 ... successful.\n"
     ]
    },
    {
     "data": {
      "text/html": [
       "<div style=\"overflow:auto\"><table style=\"width:50%\"><tr><td>H2O_cluster_uptime:</td>\n",
       "<td>03 secs</td></tr>\n",
       "<tr><td>H2O_cluster_timezone:</td>\n",
       "<td>America/New_York</td></tr>\n",
       "<tr><td>H2O_data_parsing_timezone:</td>\n",
       "<td>UTC</td></tr>\n",
       "<tr><td>H2O_cluster_version:</td>\n",
       "<td>3.32.1.3</td></tr>\n",
       "<tr><td>H2O_cluster_version_age:</td>\n",
       "<td>7 days, 20 hours and 51 minutes </td></tr>\n",
       "<tr><td>H2O_cluster_name:</td>\n",
       "<td>H2O_from_python_siyushen_3f80us</td></tr>\n",
       "<tr><td>H2O_cluster_total_nodes:</td>\n",
       "<td>1</td></tr>\n",
       "<tr><td>H2O_cluster_free_memory:</td>\n",
       "<td>2 Gb</td></tr>\n",
       "<tr><td>H2O_cluster_total_cores:</td>\n",
       "<td>4</td></tr>\n",
       "<tr><td>H2O_cluster_allowed_cores:</td>\n",
       "<td>4</td></tr>\n",
       "<tr><td>H2O_cluster_status:</td>\n",
       "<td>accepting new members, healthy</td></tr>\n",
       "<tr><td>H2O_connection_url:</td>\n",
       "<td>http://127.0.0.1:54325</td></tr>\n",
       "<tr><td>H2O_connection_proxy:</td>\n",
       "<td>{\"http\": null, \"https\": null}</td></tr>\n",
       "<tr><td>H2O_internal_security:</td>\n",
       "<td>False</td></tr>\n",
       "<tr><td>H2O_API_Extensions:</td>\n",
       "<td>Amazon S3, XGBoost, Algos, AutoML, Core V3, TargetEncoder, Core V4</td></tr>\n",
       "<tr><td>Python_version:</td>\n",
       "<td>3.8.3 final</td></tr></table></div>"
      ],
      "text/plain": [
       "--------------------------  ------------------------------------------------------------------\n",
       "H2O_cluster_uptime:         03 secs\n",
       "H2O_cluster_timezone:       America/New_York\n",
       "H2O_data_parsing_timezone:  UTC\n",
       "H2O_cluster_version:        3.32.1.3\n",
       "H2O_cluster_version_age:    7 days, 20 hours and 51 minutes\n",
       "H2O_cluster_name:           H2O_from_python_siyushen_3f80us\n",
       "H2O_cluster_total_nodes:    1\n",
       "H2O_cluster_free_memory:    2 Gb\n",
       "H2O_cluster_total_cores:    4\n",
       "H2O_cluster_allowed_cores:  4\n",
       "H2O_cluster_status:         accepting new members, healthy\n",
       "H2O_connection_url:         http://127.0.0.1:54325\n",
       "H2O_connection_proxy:       {\"http\": null, \"https\": null}\n",
       "H2O_internal_security:      False\n",
       "H2O_API_Extensions:         Amazon S3, XGBoost, Algos, AutoML, Core V3, TargetEncoder, Core V4\n",
       "Python_version:             3.8.3 final\n",
       "--------------------------  ------------------------------------------------------------------"
      ]
     },
     "metadata": {},
     "output_type": "display_data"
    }
   ],
   "source": [
    "import h2o\n",
    "from h2o.automl import H2OAutoML\n",
    "\n",
    "h2o.init()"
   ]
  },
  {
   "cell_type": "code",
   "execution_count": 2,
   "metadata": {},
   "outputs": [
    {
     "name": "stdout",
     "output_type": "stream",
     "text": [
      "Parse progress: |█████████████████████████████████████████████████████████| 100%\n",
      "Parse progress: |█████████████████████████████████████████████████████████| 100%\n"
     ]
    }
   ],
   "source": [
    "bmw_train = h2o.import_file(\"https://raw.githubusercontent.com/rebeccaisnotabug/autoML/master/train_bmw.csv\")\n",
    "bmw_test = h2o.import_file(\"https://raw.githubusercontent.com/rebeccaisnotabug/autoML/master/test_bmw.csv\")"
   ]
  },
  {
   "cell_type": "code",
   "execution_count": 3,
   "metadata": {},
   "outputs": [
    {
     "data": {
      "text/html": [
       "<table>\n",
       "<thead>\n",
       "<tr><th>model   </th><th style=\"text-align: right;\">  year</th><th style=\"text-align: right;\">  price</th><th>transmission  </th><th style=\"text-align: right;\">  mileage</th><th>fuelType  </th><th style=\"text-align: right;\">  tax</th><th style=\"text-align: right;\">  mpg</th><th style=\"text-align: right;\">  engineSize</th></tr>\n",
       "</thead>\n",
       "<tbody>\n",
       "<tr><td>5 Series</td><td style=\"text-align: right;\">  2014</td><td style=\"text-align: right;\">  11200</td><td>Automatic     </td><td style=\"text-align: right;\">    67068</td><td>Diesel    </td><td style=\"text-align: right;\">  125</td><td style=\"text-align: right;\"> 57.6</td><td style=\"text-align: right;\">         2  </td></tr>\n",
       "<tr><td>6 Series</td><td style=\"text-align: right;\">  2018</td><td style=\"text-align: right;\">  27000</td><td>Automatic     </td><td style=\"text-align: right;\">    14827</td><td>Petrol    </td><td style=\"text-align: right;\">  145</td><td style=\"text-align: right;\"> 42.8</td><td style=\"text-align: right;\">         2  </td></tr>\n",
       "<tr><td>5 Series</td><td style=\"text-align: right;\">  2016</td><td style=\"text-align: right;\">  16000</td><td>Automatic     </td><td style=\"text-align: right;\">    62794</td><td>Diesel    </td><td style=\"text-align: right;\">  160</td><td style=\"text-align: right;\"> 51.4</td><td style=\"text-align: right;\">         3  </td></tr>\n",
       "<tr><td>1 Series</td><td style=\"text-align: right;\">  2017</td><td style=\"text-align: right;\">  12750</td><td>Automatic     </td><td style=\"text-align: right;\">    26676</td><td>Diesel    </td><td style=\"text-align: right;\">  145</td><td style=\"text-align: right;\"> 72.4</td><td style=\"text-align: right;\">         1.5</td></tr>\n",
       "<tr><td>7 Series</td><td style=\"text-align: right;\">  2014</td><td style=\"text-align: right;\">  14500</td><td>Automatic     </td><td style=\"text-align: right;\">    39554</td><td>Diesel    </td><td style=\"text-align: right;\">  160</td><td style=\"text-align: right;\"> 50.4</td><td style=\"text-align: right;\">         3  </td></tr>\n",
       "<tr><td>5 Series</td><td style=\"text-align: right;\">  2016</td><td style=\"text-align: right;\">  14900</td><td>Automatic     </td><td style=\"text-align: right;\">    35309</td><td>Diesel    </td><td style=\"text-align: right;\">  125</td><td style=\"text-align: right;\"> 60.1</td><td style=\"text-align: right;\">         2  </td></tr>\n",
       "<tr><td>5 Series</td><td style=\"text-align: right;\">  2017</td><td style=\"text-align: right;\">  16000</td><td>Automatic     </td><td style=\"text-align: right;\">    38538</td><td>Diesel    </td><td style=\"text-align: right;\">  125</td><td style=\"text-align: right;\"> 60.1</td><td style=\"text-align: right;\">         2  </td></tr>\n",
       "<tr><td>2 Series</td><td style=\"text-align: right;\">  2018</td><td style=\"text-align: right;\">  16250</td><td>Manual        </td><td style=\"text-align: right;\">    10401</td><td>Petrol    </td><td style=\"text-align: right;\">  145</td><td style=\"text-align: right;\"> 52.3</td><td style=\"text-align: right;\">         1.5</td></tr>\n",
       "<tr><td>4 Series</td><td style=\"text-align: right;\">  2017</td><td style=\"text-align: right;\">  14250</td><td>Manual        </td><td style=\"text-align: right;\">    42668</td><td>Diesel    </td><td style=\"text-align: right;\">   30</td><td style=\"text-align: right;\"> 62.8</td><td style=\"text-align: right;\">         2  </td></tr>\n",
       "<tr><td>5 Series</td><td style=\"text-align: right;\">  2016</td><td style=\"text-align: right;\">  14250</td><td>Automatic     </td><td style=\"text-align: right;\">    36099</td><td>Diesel    </td><td style=\"text-align: right;\">   20</td><td style=\"text-align: right;\"> 68.9</td><td style=\"text-align: right;\">         2  </td></tr>\n",
       "</tbody>\n",
       "</table>"
      ]
     },
     "metadata": {},
     "output_type": "display_data"
    },
    {
     "data": {
      "text/plain": []
     },
     "execution_count": 3,
     "metadata": {},
     "output_type": "execute_result"
    }
   ],
   "source": [
    "bmw_train.head()"
   ]
  },
  {
   "cell_type": "code",
   "execution_count": 4,
   "metadata": {},
   "outputs": [
    {
     "data": {
      "text/html": [
       "<table>\n",
       "<thead>\n",
       "<tr><th>model   </th><th style=\"text-align: right;\">  year</th><th style=\"text-align: right;\">  price</th><th>transmission  </th><th style=\"text-align: right;\">  mileage</th><th>fuelType  </th><th style=\"text-align: right;\">  tax</th><th style=\"text-align: right;\">  mpg</th><th style=\"text-align: right;\">  engineSize</th></tr>\n",
       "</thead>\n",
       "<tbody>\n",
       "<tr><td>X3      </td><td style=\"text-align: right;\">  2017</td><td style=\"text-align: right;\">  15500</td><td>Manual        </td><td style=\"text-align: right;\">    74907</td><td>Diesel    </td><td style=\"text-align: right;\">  145</td><td style=\"text-align: right;\"> 52.3</td><td style=\"text-align: right;\">         2  </td></tr>\n",
       "<tr><td>3 Series</td><td style=\"text-align: right;\">  2017</td><td style=\"text-align: right;\">  16000</td><td>Automatic     </td><td style=\"text-align: right;\">    45456</td><td>Diesel    </td><td style=\"text-align: right;\">   30</td><td style=\"text-align: right;\"> 64.2</td><td style=\"text-align: right;\">         2  </td></tr>\n",
       "<tr><td>1 Series</td><td style=\"text-align: right;\">  2016</td><td style=\"text-align: right;\">  14300</td><td>Automatic     </td><td style=\"text-align: right;\">    22461</td><td>Diesel    </td><td style=\"text-align: right;\">   20</td><td style=\"text-align: right;\"> 67.3</td><td style=\"text-align: right;\">         2  </td></tr>\n",
       "<tr><td>3 Series</td><td style=\"text-align: right;\">  2019</td><td style=\"text-align: right;\">  17800</td><td>Automatic     </td><td style=\"text-align: right;\">    22310</td><td>Diesel    </td><td style=\"text-align: right;\">  145</td><td style=\"text-align: right;\"> 64.2</td><td style=\"text-align: right;\">         2  </td></tr>\n",
       "<tr><td>3 Series</td><td style=\"text-align: right;\">  2016</td><td style=\"text-align: right;\">  14400</td><td>Automatic     </td><td style=\"text-align: right;\">    51994</td><td>Diesel    </td><td style=\"text-align: right;\">   30</td><td style=\"text-align: right;\"> 62.8</td><td style=\"text-align: right;\">         2  </td></tr>\n",
       "<tr><td>X4      </td><td style=\"text-align: right;\">  2017</td><td style=\"text-align: right;\">  23000</td><td>Automatic     </td><td style=\"text-align: right;\">    34960</td><td>Diesel    </td><td style=\"text-align: right;\">  150</td><td style=\"text-align: right;\"> 54.3</td><td style=\"text-align: right;\">         2  </td></tr>\n",
       "<tr><td>2 Series</td><td style=\"text-align: right;\">  2017</td><td style=\"text-align: right;\">  13000</td><td>Automatic     </td><td style=\"text-align: right;\">    61818</td><td>Other     </td><td style=\"text-align: right;\">    0</td><td style=\"text-align: right;\">141.2</td><td style=\"text-align: right;\">         1.5</td></tr>\n",
       "<tr><td>1 Series</td><td style=\"text-align: right;\">  2018</td><td style=\"text-align: right;\">  14600</td><td>Automatic     </td><td style=\"text-align: right;\">     6522</td><td>Petrol    </td><td style=\"text-align: right;\">  145</td><td style=\"text-align: right;\"> 37.2</td><td style=\"text-align: right;\">         1.5</td></tr>\n",
       "<tr><td>4 Series</td><td style=\"text-align: right;\">  2016</td><td style=\"text-align: right;\">  15500</td><td>Automatic     </td><td style=\"text-align: right;\">    45856</td><td>Diesel    </td><td style=\"text-align: right;\">   30</td><td style=\"text-align: right;\"> 65.7</td><td style=\"text-align: right;\">         2  </td></tr>\n",
       "<tr><td>3 Series</td><td style=\"text-align: right;\">  2017</td><td style=\"text-align: right;\">  18500</td><td>Automatic     </td><td style=\"text-align: right;\">    27139</td><td>Diesel    </td><td style=\"text-align: right;\">  160</td><td style=\"text-align: right;\"> 51.4</td><td style=\"text-align: right;\">         3  </td></tr>\n",
       "</tbody>\n",
       "</table>"
      ]
     },
     "metadata": {},
     "output_type": "display_data"
    },
    {
     "data": {
      "text/plain": []
     },
     "execution_count": 4,
     "metadata": {},
     "output_type": "execute_result"
    }
   ],
   "source": [
    "bmw_test.head()"
   ]
  },
  {
   "cell_type": "code",
   "execution_count": 5,
   "metadata": {},
   "outputs": [],
   "source": [
    "x = bmw_train.columns\n",
    "y = \"price\"\n",
    "x.remove(y)"
   ]
  },
  {
   "cell_type": "code",
   "execution_count": 6,
   "metadata": {},
   "outputs": [
    {
     "name": "stdout",
     "output_type": "stream",
     "text": [
      "AutoML progress: |████████████████████████████████████████████████████████| 100%\n"
     ]
    }
   ],
   "source": [
    "aml = H2OAutoML(max_models = 10, seed = 1)\n",
    "aml.train(x=x, y=y, training_frame = bmw_train)"
   ]
  },
  {
   "cell_type": "code",
   "execution_count": 7,
   "metadata": {},
   "outputs": [
    {
     "data": {
      "text/html": [
       "<table>\n",
       "<thead>\n",
       "<tr><th>model_id                                           </th><th style=\"text-align: right;\">  mean_residual_deviance</th><th style=\"text-align: right;\">   rmse</th><th style=\"text-align: right;\">        mse</th><th style=\"text-align: right;\">    mae</th><th style=\"text-align: right;\">   rmsle</th></tr>\n",
       "</thead>\n",
       "<tbody>\n",
       "<tr><td>StackedEnsemble_AllModels_AutoML_20210527_145242   </td><td style=\"text-align: right;\">             7.31306e+06</td><td style=\"text-align: right;\">2704.27</td><td style=\"text-align: right;\">7.31306e+06</td><td style=\"text-align: right;\">1531.14</td><td style=\"text-align: right;\">0.102971</td></tr>\n",
       "<tr><td>StackedEnsemble_BestOfFamily_AutoML_20210527_145242</td><td style=\"text-align: right;\">             7.37406e+06</td><td style=\"text-align: right;\">2715.52</td><td style=\"text-align: right;\">7.37406e+06</td><td style=\"text-align: right;\">1541.43</td><td style=\"text-align: right;\">0.103063</td></tr>\n",
       "<tr><td>GBM_3_AutoML_20210527_145242                       </td><td style=\"text-align: right;\">             7.46955e+06</td><td style=\"text-align: right;\">2733.05</td><td style=\"text-align: right;\">7.46955e+06</td><td style=\"text-align: right;\">1564.92</td><td style=\"text-align: right;\">0.104602</td></tr>\n",
       "<tr><td>GBM_4_AutoML_20210527_145242                       </td><td style=\"text-align: right;\">             7.50431e+06</td><td style=\"text-align: right;\">2739.4 </td><td style=\"text-align: right;\">7.50431e+06</td><td style=\"text-align: right;\">1541.65</td><td style=\"text-align: right;\">0.104358</td></tr>\n",
       "<tr><td>GBM_2_AutoML_20210527_145242                       </td><td style=\"text-align: right;\">             7.60399e+06</td><td style=\"text-align: right;\">2757.53</td><td style=\"text-align: right;\">7.60399e+06</td><td style=\"text-align: right;\">1575.02</td><td style=\"text-align: right;\">0.104993</td></tr>\n",
       "<tr><td>GBM_1_AutoML_20210527_145242                       </td><td style=\"text-align: right;\">             7.90253e+06</td><td style=\"text-align: right;\">2811.14</td><td style=\"text-align: right;\">7.90253e+06</td><td style=\"text-align: right;\">1570.38</td><td style=\"text-align: right;\">0.107202</td></tr>\n",
       "<tr><td>DRF_1_AutoML_20210527_145242                       </td><td style=\"text-align: right;\">             8.31887e+06</td><td style=\"text-align: right;\">2884.24</td><td style=\"text-align: right;\">8.31887e+06</td><td style=\"text-align: right;\">1616.69</td><td style=\"text-align: right;\">0.111408</td></tr>\n",
       "<tr><td>XGBoost_1_AutoML_20210527_145242                   </td><td style=\"text-align: right;\">             8.38631e+06</td><td style=\"text-align: right;\">2895.91</td><td style=\"text-align: right;\">8.38631e+06</td><td style=\"text-align: right;\">1680.77</td><td style=\"text-align: right;\">0.116134</td></tr>\n",
       "<tr><td>GBM_5_AutoML_20210527_145242                       </td><td style=\"text-align: right;\">             8.52235e+06</td><td style=\"text-align: right;\">2919.31</td><td style=\"text-align: right;\">8.52235e+06</td><td style=\"text-align: right;\">1648.35</td><td style=\"text-align: right;\">0.111958</td></tr>\n",
       "<tr><td>XGBoost_3_AutoML_20210527_145242                   </td><td style=\"text-align: right;\">             8.54475e+06</td><td style=\"text-align: right;\">2923.14</td><td style=\"text-align: right;\">8.54475e+06</td><td style=\"text-align: right;\">1689.22</td><td style=\"text-align: right;\">0.116488</td></tr>\n",
       "</tbody>\n",
       "</table>"
      ]
     },
     "metadata": {},
     "output_type": "display_data"
    },
    {
     "data": {
      "text/plain": []
     },
     "execution_count": 7,
     "metadata": {},
     "output_type": "execute_result"
    }
   ],
   "source": [
    "lb = aml.leaderboard\n",
    "lb"
   ]
  },
  {
   "cell_type": "code",
   "execution_count": 9,
   "metadata": {},
   "outputs": [
    {
     "name": "stdout",
     "output_type": "stream",
     "text": [
      "stackedensemble prediction progress: |████████████████████████████████████| 100%\n"
     ]
    }
   ],
   "source": [
    "pred = aml.predict(bmw_test)"
   ]
  },
  {
   "cell_type": "code",
   "execution_count": 11,
   "metadata": {},
   "outputs": [
    {
     "name": "stdout",
     "output_type": "stream",
     "text": [
      "\n",
      "ModelMetricsRegressionGLM: stackedensemble\n",
      "** Reported on test data. **\n",
      "\n",
      "MSE: 4584367.829032802\n",
      "RMSE: 2141.11368895554\n",
      "MAE: 1437.529151887799\n",
      "RMSLE: 0.09086622789563475\n",
      "R^2: 0.9657410110848172\n",
      "Mean Residual Deviance: 4584367.829032802\n",
      "Null degrees of freedom: 3230\n",
      "Residual degrees of freedom: 3224\n",
      "Null deviance: 432367001154.14514\n",
      "Residual deviance: 14812092455.604984\n",
      "AIC: 58742.78473112541\n"
     ]
    },
    {
     "data": {
      "text/plain": []
     },
     "execution_count": 11,
     "metadata": {},
     "output_type": "execute_result"
    }
   ],
   "source": [
    "perf = aml.leader.model_performance(bmw_test)\n",
    "perf"
   ]
  }
 ],
 "metadata": {
  "kernelspec": {
   "display_name": "Python 3",
   "language": "python",
   "name": "python3"
  },
  "language_info": {
   "codemirror_mode": {
    "name": "ipython",
    "version": 3
   },
   "file_extension": ".py",
   "mimetype": "text/x-python",
   "name": "python",
   "nbconvert_exporter": "python",
   "pygments_lexer": "ipython3",
   "version": "3.8.3"
  }
 },
 "nbformat": 4,
 "nbformat_minor": 4
}
